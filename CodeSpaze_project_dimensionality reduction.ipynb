{
 "cells": [
  {
   "cell_type": "code",
   "execution_count": 5,
   "id": "a1560d5a-daf4-4cdb-9554-c26b83889e92",
   "metadata": {},
   "outputs": [],
   "source": [
    "# Import necessary libraries\n",
    "import tensorflow as tf\n",
    "from tensorflow.keras.datasets import cifar10\n",
    "from tensorflow.keras.models import Sequential\n",
    "from tensorflow.keras.layers import Dense, Flatten\n",
    "from sklearn.decomposition import PCA\n",
    "from sklearn.preprocessing import StandardScaler\n",
    "from sklearn.metrics import accuracy_score\n",
    "import numpy as np\n"
   ]
  },
  {
   "cell_type": "code",
   "execution_count": 8,
   "id": "c817fdf4-7d57-47b4-9128-fff84f261f63",
   "metadata": {},
   "outputs": [],
   "source": [
    "# Load the CIFAR-10 dataset\n",
    "(x_train, y_train), (x_test, y_test) = cifar10.load_data()\n",
    "\n",
    "# Flatten images to apply PCA (original size: 32x32x3)\n",
    "x_train_flat = x_train.reshape(x_train.shape[0], -1)\n",
    "x_test_flat = x_test.reshape(x_test.shape[0], -1)\n",
    "\n",
    "# Standardize the data to zero mean and unit variance\n",
    "scaler = StandardScaler()\n",
    "x_train_scaled = scaler.fit_transform(x_train_flat)\n",
    "x_test_scaled = scaler.transform(x_test_flat)\n"
   ]
  },
  {
   "cell_type": "code",
   "execution_count": 3,
   "id": "d05d17d9-f005-4192-a65f-516f771f1371",
   "metadata": {},
   "outputs": [],
   "source": [
    "# Flatten images to apply PCA (original size: 32x32x3)\n",
    "x_train_flat = x_train.reshape(x_train.shape[0], -1)\n",
    "x_test_flat = x_test.reshape(x_test.shape[0], -1)"
   ]
  },
  {
   "cell_type": "code",
   "execution_count": 6,
   "id": "bfecd494-4456-40aa-824f-5bd5d40d8bed",
   "metadata": {},
   "outputs": [],
   "source": [
    "# Standardize the data to zero mean and unit variance\n",
    "scaler = StandardScaler()\n",
    "x_train_scaled = scaler.fit_transform(x_train_flat)"
   ]
  },
  {
   "cell_type": "code",
   "execution_count": 9,
   "id": "cd1b89f2-9c6f-4449-9ee8-1ec71d5220ee",
   "metadata": {},
   "outputs": [
    {
     "name": "stdout",
     "output_type": "stream",
     "text": [
      "Total Explained Variance with 150 components: 0.9271\n"
     ]
    }
   ],
   "source": [
    "# Apply PCA with 150 components\n",
    "pca = PCA(n_components=150)\n",
    "x_train_pca = pca.fit_transform(x_train_scaled)\n",
    "x_test_pca = pca.transform(x_test_scaled)\n",
    "\n",
    "# Check variance explained by each component\n",
    "explained_variance_ratio = np.sum(pca.explained_variance_ratio_)\n",
    "print(f\"Total Explained Variance with 150 components: {explained_variance_ratio:.4f}\")\n"
   ]
  },
  {
   "cell_type": "code",
   "execution_count": 10,
   "id": "5e2ce0c9-a47e-41d0-977b-478ad4aaea36",
   "metadata": {},
   "outputs": [],
   "source": [
    "def build_model(input_dim):\n",
    "    model = Sequential([\n",
    "        Dense(512, activation='relu', input_shape=(input_dim,)),\n",
    "        Dense(256, activation='relu'),\n",
    "        Dense(128, activation='relu'),\n",
    "        Dense(10, activation='softmax')  # 10 classes for CIFAR-10\n",
    "    ])\n",
    "    model.compile(optimizer='adam', loss='sparse_categorical_crossentropy', metrics=['accuracy'])\n",
    "    return model\n"
   ]
  },
  {
   "cell_type": "code",
   "execution_count": 11,
   "id": "b8a54907-cbe6-47d7-9fa7-7eca1c4be591",
   "metadata": {},
   "outputs": [
    {
     "name": "stdout",
     "output_type": "stream",
     "text": [
      "Epoch 1/10\n",
      "625/625 [==============================] - 25s 37ms/step - loss: 25.4386 - accuracy: 0.2121 - val_loss: 3.0805 - val_accuracy: 0.2449\n",
      "Epoch 2/10\n",
      "625/625 [==============================] - 23s 37ms/step - loss: 2.4441 - accuracy: 0.2858 - val_loss: 2.3814 - val_accuracy: 0.2864\n",
      "Epoch 3/10\n",
      "625/625 [==============================] - 23s 37ms/step - loss: 2.0618 - accuracy: 0.3147 - val_loss: 1.9876 - val_accuracy: 0.3235\n",
      "Epoch 4/10\n",
      "625/625 [==============================] - 23s 37ms/step - loss: 1.9173 - accuracy: 0.3418 - val_loss: 1.8720 - val_accuracy: 0.3545\n",
      "Epoch 5/10\n",
      "625/625 [==============================] - 23s 37ms/step - loss: 1.8502 - accuracy: 0.3509 - val_loss: 1.9683 - val_accuracy: 0.3098\n",
      "Epoch 6/10\n",
      "625/625 [==============================] - 23s 37ms/step - loss: 1.8243 - accuracy: 0.3569 - val_loss: 1.8860 - val_accuracy: 0.3310\n",
      "Epoch 7/10\n",
      "625/625 [==============================] - 24s 38ms/step - loss: 1.8067 - accuracy: 0.3615 - val_loss: 1.8392 - val_accuracy: 0.3543\n",
      "Epoch 8/10\n",
      "625/625 [==============================] - 23s 37ms/step - loss: 1.8137 - accuracy: 0.3605 - val_loss: 1.9389 - val_accuracy: 0.3220\n",
      "Epoch 9/10\n",
      "625/625 [==============================] - 23s 37ms/step - loss: 1.8285 - accuracy: 0.3512 - val_loss: 1.8308 - val_accuracy: 0.3411\n",
      "Epoch 10/10\n",
      "625/625 [==============================] - 23s 37ms/step - loss: 1.7947 - accuracy: 0.3601 - val_loss: 1.8743 - val_accuracy: 0.3283\n",
      "313/313 [==============================] - 3s 8ms/step - loss: 1.8639 - accuracy: 0.3315\n",
      "Original Data Test Accuracy: 0.3315\n"
     ]
    }
   ],
   "source": [
    "# Build and train the model on original dataset\n",
    "model_original = build_model(x_train_flat.shape[1])\n",
    "history_original = model_original.fit(x_train_flat, y_train, epochs=10, batch_size=64, validation_split=0.2)\n",
    "\n",
    "# Evaluate on test data\n",
    "test_loss_orig, test_accuracy_orig = model_original.evaluate(x_test_flat, y_test)\n",
    "print(f\"Original Data Test Accuracy: {test_accuracy_orig:.4f}\")\n"
   ]
  },
  {
   "cell_type": "code",
   "execution_count": 12,
   "id": "6e30093c-6e65-4bb2-a6d6-00452cd8d2bf",
   "metadata": {},
   "outputs": [
    {
     "name": "stdout",
     "output_type": "stream",
     "text": [
      "Epoch 1/10\n",
      "625/625 [==============================] - 9s 10ms/step - loss: 1.6672 - accuracy: 0.4117 - val_loss: 1.5289 - val_accuracy: 0.4640\n",
      "Epoch 2/10\n",
      "625/625 [==============================] - 6s 10ms/step - loss: 1.3667 - accuracy: 0.5171 - val_loss: 1.4317 - val_accuracy: 0.4973\n",
      "Epoch 3/10\n",
      "625/625 [==============================] - 6s 10ms/step - loss: 1.2051 - accuracy: 0.5740 - val_loss: 1.4082 - val_accuracy: 0.5179\n",
      "Epoch 4/10\n",
      "625/625 [==============================] - 6s 10ms/step - loss: 1.0710 - accuracy: 0.6219 - val_loss: 1.4094 - val_accuracy: 0.5205\n",
      "Epoch 5/10\n",
      "625/625 [==============================] - 6s 10ms/step - loss: 0.9410 - accuracy: 0.6683 - val_loss: 1.4578 - val_accuracy: 0.5298\n",
      "Epoch 6/10\n",
      "625/625 [==============================] - 6s 10ms/step - loss: 0.8234 - accuracy: 0.7072 - val_loss: 1.5006 - val_accuracy: 0.5232\n",
      "Epoch 7/10\n",
      "625/625 [==============================] - 6s 10ms/step - loss: 0.7096 - accuracy: 0.7491 - val_loss: 1.6034 - val_accuracy: 0.5285\n",
      "Epoch 8/10\n",
      "625/625 [==============================] - 6s 10ms/step - loss: 0.6071 - accuracy: 0.7835 - val_loss: 1.7380 - val_accuracy: 0.5177\n",
      "Epoch 9/10\n",
      "625/625 [==============================] - 6s 10ms/step - loss: 0.5191 - accuracy: 0.8156 - val_loss: 1.8377 - val_accuracy: 0.5169\n",
      "Epoch 10/10\n",
      "625/625 [==============================] - 6s 10ms/step - loss: 0.4425 - accuracy: 0.8431 - val_loss: 2.0447 - val_accuracy: 0.5201\n",
      "313/313 [==============================] - 2s 5ms/step - loss: 2.0920 - accuracy: 0.5110\n",
      "PCA Reduced Data Test Accuracy: 0.5110\n"
     ]
    }
   ],
   "source": [
    "# Build and train the model on PCA-reduced dataset\n",
    "model_pca = build_model(x_train_pca.shape[1])\n",
    "history_pca = model_pca.fit(x_train_pca, y_train, epochs=10, batch_size=64, validation_split=0.2)\n",
    "\n",
    "# Evaluate on test data\n",
    "test_loss_pca, test_accuracy_pca = model_pca.evaluate(x_test_pca, y_test)\n",
    "print(f\"PCA Reduced Data Test Accuracy: {test_accuracy_pca:.4f}\")\n"
   ]
  },
  {
   "cell_type": "code",
   "execution_count": 13,
   "id": "f280890b-a5ad-41f0-8f45-1d62976f0d7e",
   "metadata": {},
   "outputs": [
    {
     "name": "stdout",
     "output_type": "stream",
     "text": [
      "\n",
      "--- Dimensionality Reduction Analysis ---\n",
      "Original Dataset Dimensionality: 3072\n",
      "Reduced Dataset Dimensionality: 150\n",
      "Accuracy with Original Dataset: 0.3315\n",
      "Accuracy with PCA Reduced Dataset: 0.5110\n",
      "Accuracy Difference: -17.95%\n"
     ]
    }
   ],
   "source": [
    "# Calculate and display trade-off results\n",
    "accuracy_difference = (test_accuracy_orig - test_accuracy_pca) * 100\n",
    "print(\"\\n--- Dimensionality Reduction Analysis ---\")\n",
    "print(f\"Original Dataset Dimensionality: {x_train_flat.shape[1]}\")\n",
    "print(f\"Reduced Dataset Dimensionality: {x_train_pca.shape[1]}\")\n",
    "print(f\"Accuracy with Original Dataset: {test_accuracy_orig:.4f}\")\n",
    "print(f\"Accuracy with PCA Reduced Dataset: {test_accuracy_pca:.4f}\")\n",
    "print(f\"Accuracy Difference: {accuracy_difference:.2f}%\")\n"
   ]
  },
  {
   "cell_type": "code",
   "execution_count": null,
   "id": "6f33c196-7c2a-4e88-9134-fcce73f90d9f",
   "metadata": {},
   "outputs": [],
   "source": []
  }
 ],
 "metadata": {
  "kernelspec": {
   "display_name": "Python 3 (ipykernel)",
   "language": "python",
   "name": "python3"
  },
  "language_info": {
   "codemirror_mode": {
    "name": "ipython",
    "version": 3
   },
   "file_extension": ".py",
   "mimetype": "text/x-python",
   "name": "python",
   "nbconvert_exporter": "python",
   "pygments_lexer": "ipython3",
   "version": "3.11.7"
  }
 },
 "nbformat": 4,
 "nbformat_minor": 5
}
